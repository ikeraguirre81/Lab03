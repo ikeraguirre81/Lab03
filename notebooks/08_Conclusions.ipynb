{
 "cells": [
  {
   "cell_type": "markdown",
   "metadata": {},
   "source": [
    "# Conclusions"
   ]
  },
  {
   "cell_type": "code",
   "execution_count": 17,
   "metadata": {},
   "outputs": [],
   "source": [
    "import numpy as np\n",
    "import pandas as pd\n",
    "import seaborn as sns\n",
    "import matplotlib.pyplot as plt\n",
    "%matplotlib inline"
   ]
  },
  {
   "cell_type": "code",
   "execution_count": 18,
   "metadata": {},
   "outputs": [],
   "source": [
    "lc_data = pd.read_csv(\"../data/loan_clean.csv\")\n",
    "lc_data.drop('Unnamed: 0', inplace=True, axis=1)"
   ]
  },
  {
   "cell_type": "code",
   "execution_count": 3,
   "metadata": {},
   "outputs": [
    {
     "data": {
      "text/html": [
       "<div>\n",
       "<style scoped>\n",
       "    .dataframe tbody tr th:only-of-type {\n",
       "        vertical-align: middle;\n",
       "    }\n",
       "\n",
       "    .dataframe tbody tr th {\n",
       "        vertical-align: top;\n",
       "    }\n",
       "\n",
       "    .dataframe thead th {\n",
       "        text-align: right;\n",
       "    }\n",
       "</style>\n",
       "<table border=\"1\" class=\"dataframe\">\n",
       "  <thead>\n",
       "    <tr style=\"text-align: right;\">\n",
       "      <th></th>\n",
       "      <th>Unnamed: 0.1</th>\n",
       "      <th>loan_amnt</th>\n",
       "      <th>int_rate</th>\n",
       "      <th>annual_inc</th>\n",
       "      <th>loan_status</th>\n",
       "      <th>dti</th>\n",
       "      <th>delinq_2yrs</th>\n",
       "      <th>fico_range_low</th>\n",
       "      <th>inq_last_6mths</th>\n",
       "      <th>open_acc</th>\n",
       "      <th>...</th>\n",
       "      <th>tax_liens</th>\n",
       "      <th>total_bal_ex_mort</th>\n",
       "      <th>home_ownership_MORTGAGE</th>\n",
       "      <th>home_ownership_OWN</th>\n",
       "      <th>verification_status_Source Verified</th>\n",
       "      <th>verification_status_Verified</th>\n",
       "      <th>pymnt_plan_y</th>\n",
       "      <th>initial_list_status_w</th>\n",
       "      <th>application_type_Joint App</th>\n",
       "      <th>debt_settlement_flag_Y</th>\n",
       "    </tr>\n",
       "  </thead>\n",
       "  <tbody>\n",
       "    <tr>\n",
       "      <th>0</th>\n",
       "      <td>8</td>\n",
       "      <td>11575.0</td>\n",
       "      <td>0.0735</td>\n",
       "      <td>153000.0</td>\n",
       "      <td>1.0</td>\n",
       "      <td>16.99</td>\n",
       "      <td>0.0</td>\n",
       "      <td>720.0</td>\n",
       "      <td>0.0</td>\n",
       "      <td>20.0</td>\n",
       "      <td>...</td>\n",
       "      <td>0.0</td>\n",
       "      <td>100865.0</td>\n",
       "      <td>0</td>\n",
       "      <td>1</td>\n",
       "      <td>0</td>\n",
       "      <td>0</td>\n",
       "      <td>0</td>\n",
       "      <td>1</td>\n",
       "      <td>0</td>\n",
       "      <td>0</td>\n",
       "    </tr>\n",
       "    <tr>\n",
       "      <th>1</th>\n",
       "      <td>10</td>\n",
       "      <td>7200.0</td>\n",
       "      <td>0.2485</td>\n",
       "      <td>50000.0</td>\n",
       "      <td>1.0</td>\n",
       "      <td>6.07</td>\n",
       "      <td>0.0</td>\n",
       "      <td>685.0</td>\n",
       "      <td>0.0</td>\n",
       "      <td>4.0</td>\n",
       "      <td>...</td>\n",
       "      <td>0.0</td>\n",
       "      <td>5588.0</td>\n",
       "      <td>0</td>\n",
       "      <td>0</td>\n",
       "      <td>1</td>\n",
       "      <td>0</td>\n",
       "      <td>0</td>\n",
       "      <td>1</td>\n",
       "      <td>0</td>\n",
       "      <td>0</td>\n",
       "    </tr>\n",
       "    <tr>\n",
       "      <th>2</th>\n",
       "      <td>24</td>\n",
       "      <td>7500.0</td>\n",
       "      <td>0.0735</td>\n",
       "      <td>110000.0</td>\n",
       "      <td>1.0</td>\n",
       "      <td>13.12</td>\n",
       "      <td>0.0</td>\n",
       "      <td>710.0</td>\n",
       "      <td>2.0</td>\n",
       "      <td>19.0</td>\n",
       "      <td>...</td>\n",
       "      <td>0.0</td>\n",
       "      <td>45955.0</td>\n",
       "      <td>1</td>\n",
       "      <td>0</td>\n",
       "      <td>0</td>\n",
       "      <td>0</td>\n",
       "      <td>0</td>\n",
       "      <td>1</td>\n",
       "      <td>0</td>\n",
       "      <td>0</td>\n",
       "    </tr>\n",
       "    <tr>\n",
       "      <th>3</th>\n",
       "      <td>42</td>\n",
       "      <td>10000.0</td>\n",
       "      <td>0.1602</td>\n",
       "      <td>51979.0</td>\n",
       "      <td>1.0</td>\n",
       "      <td>10.11</td>\n",
       "      <td>0.0</td>\n",
       "      <td>690.0</td>\n",
       "      <td>0.0</td>\n",
       "      <td>15.0</td>\n",
       "      <td>...</td>\n",
       "      <td>0.0</td>\n",
       "      <td>10956.0</td>\n",
       "      <td>0</td>\n",
       "      <td>0</td>\n",
       "      <td>1</td>\n",
       "      <td>0</td>\n",
       "      <td>0</td>\n",
       "      <td>1</td>\n",
       "      <td>0</td>\n",
       "      <td>0</td>\n",
       "    </tr>\n",
       "    <tr>\n",
       "      <th>4</th>\n",
       "      <td>91</td>\n",
       "      <td>14000.0</td>\n",
       "      <td>0.1602</td>\n",
       "      <td>75000.0</td>\n",
       "      <td>1.0</td>\n",
       "      <td>10.86</td>\n",
       "      <td>1.0</td>\n",
       "      <td>685.0</td>\n",
       "      <td>0.0</td>\n",
       "      <td>4.0</td>\n",
       "      <td>...</td>\n",
       "      <td>0.0</td>\n",
       "      <td>27684.0</td>\n",
       "      <td>1</td>\n",
       "      <td>0</td>\n",
       "      <td>0</td>\n",
       "      <td>1</td>\n",
       "      <td>0</td>\n",
       "      <td>1</td>\n",
       "      <td>0</td>\n",
       "      <td>0</td>\n",
       "    </tr>\n",
       "    <tr>\n",
       "      <th>...</th>\n",
       "      <td>...</td>\n",
       "      <td>...</td>\n",
       "      <td>...</td>\n",
       "      <td>...</td>\n",
       "      <td>...</td>\n",
       "      <td>...</td>\n",
       "      <td>...</td>\n",
       "      <td>...</td>\n",
       "      <td>...</td>\n",
       "      <td>...</td>\n",
       "      <td>...</td>\n",
       "      <td>...</td>\n",
       "      <td>...</td>\n",
       "      <td>...</td>\n",
       "      <td>...</td>\n",
       "      <td>...</td>\n",
       "      <td>...</td>\n",
       "      <td>...</td>\n",
       "      <td>...</td>\n",
       "      <td>...</td>\n",
       "      <td>...</td>\n",
       "    </tr>\n",
       "    <tr>\n",
       "      <th>406070</th>\n",
       "      <td>421088</td>\n",
       "      <td>11575.0</td>\n",
       "      <td>0.1559</td>\n",
       "      <td>25400.0</td>\n",
       "      <td>1.0</td>\n",
       "      <td>27.08</td>\n",
       "      <td>0.0</td>\n",
       "      <td>680.0</td>\n",
       "      <td>0.0</td>\n",
       "      <td>9.0</td>\n",
       "      <td>...</td>\n",
       "      <td>0.0</td>\n",
       "      <td>19798.0</td>\n",
       "      <td>0</td>\n",
       "      <td>0</td>\n",
       "      <td>0</td>\n",
       "      <td>1</td>\n",
       "      <td>0</td>\n",
       "      <td>0</td>\n",
       "      <td>0</td>\n",
       "      <td>0</td>\n",
       "    </tr>\n",
       "    <tr>\n",
       "      <th>406071</th>\n",
       "      <td>421089</td>\n",
       "      <td>12000.0</td>\n",
       "      <td>0.1199</td>\n",
       "      <td>63000.0</td>\n",
       "      <td>0.0</td>\n",
       "      <td>23.69</td>\n",
       "      <td>1.0</td>\n",
       "      <td>685.0</td>\n",
       "      <td>0.0</td>\n",
       "      <td>13.0</td>\n",
       "      <td>...</td>\n",
       "      <td>0.0</td>\n",
       "      <td>112990.0</td>\n",
       "      <td>1</td>\n",
       "      <td>0</td>\n",
       "      <td>0</td>\n",
       "      <td>1</td>\n",
       "      <td>0</td>\n",
       "      <td>0</td>\n",
       "      <td>0</td>\n",
       "      <td>0</td>\n",
       "    </tr>\n",
       "    <tr>\n",
       "      <th>406072</th>\n",
       "      <td>421092</td>\n",
       "      <td>13000.0</td>\n",
       "      <td>0.1599</td>\n",
       "      <td>35000.0</td>\n",
       "      <td>0.0</td>\n",
       "      <td>30.90</td>\n",
       "      <td>0.0</td>\n",
       "      <td>680.0</td>\n",
       "      <td>0.0</td>\n",
       "      <td>9.0</td>\n",
       "      <td>...</td>\n",
       "      <td>0.0</td>\n",
       "      <td>34178.0</td>\n",
       "      <td>0</td>\n",
       "      <td>0</td>\n",
       "      <td>0</td>\n",
       "      <td>1</td>\n",
       "      <td>0</td>\n",
       "      <td>1</td>\n",
       "      <td>0</td>\n",
       "      <td>0</td>\n",
       "    </tr>\n",
       "    <tr>\n",
       "      <th>406073</th>\n",
       "      <td>421093</td>\n",
       "      <td>12000.0</td>\n",
       "      <td>0.1999</td>\n",
       "      <td>64400.0</td>\n",
       "      <td>0.0</td>\n",
       "      <td>27.19</td>\n",
       "      <td>1.0</td>\n",
       "      <td>695.0</td>\n",
       "      <td>2.0</td>\n",
       "      <td>17.0</td>\n",
       "      <td>...</td>\n",
       "      <td>0.0</td>\n",
       "      <td>58418.0</td>\n",
       "      <td>0</td>\n",
       "      <td>0</td>\n",
       "      <td>1</td>\n",
       "      <td>0</td>\n",
       "      <td>0</td>\n",
       "      <td>1</td>\n",
       "      <td>0</td>\n",
       "      <td>0</td>\n",
       "    </tr>\n",
       "    <tr>\n",
       "      <th>406074</th>\n",
       "      <td>421094</td>\n",
       "      <td>20000.0</td>\n",
       "      <td>0.1199</td>\n",
       "      <td>100000.0</td>\n",
       "      <td>1.0</td>\n",
       "      <td>10.83</td>\n",
       "      <td>0.0</td>\n",
       "      <td>675.0</td>\n",
       "      <td>1.0</td>\n",
       "      <td>8.0</td>\n",
       "      <td>...</td>\n",
       "      <td>1.0</td>\n",
       "      <td>33307.0</td>\n",
       "      <td>0</td>\n",
       "      <td>0</td>\n",
       "      <td>0</td>\n",
       "      <td>1</td>\n",
       "      <td>0</td>\n",
       "      <td>0</td>\n",
       "      <td>0</td>\n",
       "      <td>0</td>\n",
       "    </tr>\n",
       "  </tbody>\n",
       "</table>\n",
       "<p>406075 rows × 53 columns</p>\n",
       "</div>"
      ],
      "text/plain": [
       "        Unnamed: 0.1  loan_amnt  int_rate  annual_inc  loan_status    dti  \\\n",
       "0                  8    11575.0    0.0735    153000.0          1.0  16.99   \n",
       "1                 10     7200.0    0.2485     50000.0          1.0   6.07   \n",
       "2                 24     7500.0    0.0735    110000.0          1.0  13.12   \n",
       "3                 42    10000.0    0.1602     51979.0          1.0  10.11   \n",
       "4                 91    14000.0    0.1602     75000.0          1.0  10.86   \n",
       "...              ...        ...       ...         ...          ...    ...   \n",
       "406070        421088    11575.0    0.1559     25400.0          1.0  27.08   \n",
       "406071        421089    12000.0    0.1199     63000.0          0.0  23.69   \n",
       "406072        421092    13000.0    0.1599     35000.0          0.0  30.90   \n",
       "406073        421093    12000.0    0.1999     64400.0          0.0  27.19   \n",
       "406074        421094    20000.0    0.1199    100000.0          1.0  10.83   \n",
       "\n",
       "        delinq_2yrs  fico_range_low  inq_last_6mths  open_acc  ...  tax_liens  \\\n",
       "0               0.0           720.0             0.0      20.0  ...        0.0   \n",
       "1               0.0           685.0             0.0       4.0  ...        0.0   \n",
       "2               0.0           710.0             2.0      19.0  ...        0.0   \n",
       "3               0.0           690.0             0.0      15.0  ...        0.0   \n",
       "4               1.0           685.0             0.0       4.0  ...        0.0   \n",
       "...             ...             ...             ...       ...  ...        ...   \n",
       "406070          0.0           680.0             0.0       9.0  ...        0.0   \n",
       "406071          1.0           685.0             0.0      13.0  ...        0.0   \n",
       "406072          0.0           680.0             0.0       9.0  ...        0.0   \n",
       "406073          1.0           695.0             2.0      17.0  ...        0.0   \n",
       "406074          0.0           675.0             1.0       8.0  ...        1.0   \n",
       "\n",
       "        total_bal_ex_mort  home_ownership_MORTGAGE  home_ownership_OWN  \\\n",
       "0                100865.0                        0                   1   \n",
       "1                  5588.0                        0                   0   \n",
       "2                 45955.0                        1                   0   \n",
       "3                 10956.0                        0                   0   \n",
       "4                 27684.0                        1                   0   \n",
       "...                   ...                      ...                 ...   \n",
       "406070            19798.0                        0                   0   \n",
       "406071           112990.0                        1                   0   \n",
       "406072            34178.0                        0                   0   \n",
       "406073            58418.0                        0                   0   \n",
       "406074            33307.0                        0                   0   \n",
       "\n",
       "        verification_status_Source Verified  verification_status_Verified  \\\n",
       "0                                         0                             0   \n",
       "1                                         1                             0   \n",
       "2                                         0                             0   \n",
       "3                                         1                             0   \n",
       "4                                         0                             1   \n",
       "...                                     ...                           ...   \n",
       "406070                                    0                             1   \n",
       "406071                                    0                             1   \n",
       "406072                                    0                             1   \n",
       "406073                                    1                             0   \n",
       "406074                                    0                             1   \n",
       "\n",
       "        pymnt_plan_y  initial_list_status_w  application_type_Joint App  \\\n",
       "0                  0                      1                           0   \n",
       "1                  0                      1                           0   \n",
       "2                  0                      1                           0   \n",
       "3                  0                      1                           0   \n",
       "4                  0                      1                           0   \n",
       "...              ...                    ...                         ...   \n",
       "406070             0                      0                           0   \n",
       "406071             0                      0                           0   \n",
       "406072             0                      1                           0   \n",
       "406073             0                      1                           0   \n",
       "406074             0                      0                           0   \n",
       "\n",
       "        debt_settlement_flag_Y  \n",
       "0                            0  \n",
       "1                            0  \n",
       "2                            0  \n",
       "3                            0  \n",
       "4                            0  \n",
       "...                        ...  \n",
       "406070                       0  \n",
       "406071                       0  \n",
       "406072                       0  \n",
       "406073                       0  \n",
       "406074                       0  \n",
       "\n",
       "[406075 rows x 53 columns]"
      ]
     },
     "execution_count": 3,
     "metadata": {},
     "output_type": "execute_result"
    }
   ],
   "source": [
    "lc_data"
   ]
  },
  {
   "cell_type": "code",
   "execution_count": 19,
   "metadata": {},
   "outputs": [],
   "source": [
    "y = lc_data['loan_status']\n",
    "X = lc_data.drop('loan_status', axis=1)"
   ]
  },
  {
   "cell_type": "code",
   "execution_count": 20,
   "metadata": {},
   "outputs": [],
   "source": [
    "from sklearn.model_selection import train_test_split\n",
    "\n",
    "x_train, x_test, y_train, y_test = train_test_split(X, y, test_size=0.25, random_state=42, stratify=y)"
   ]
  },
  {
   "cell_type": "code",
   "execution_count": 21,
   "metadata": {},
   "outputs": [],
   "source": [
    "import pickle\n",
    "load_lr = pickle.load(open(\"../models/logisticRegr.sav\", 'rb'))\n",
    "load_svm = pickle.load(open(\"../models/svm_model.sav\", 'rb'))\n",
    "load_rf = pickle.load(open(\"../models/rf_model.sav\", 'rb'))\n",
    "load_xgboostt = pickle.load(open(\"../models/xgb_model.sav\", 'rb'))"
   ]
  },
  {
   "cell_type": "code",
   "execution_count": 22,
   "metadata": {},
   "outputs": [],
   "source": [
    "from sklearn.linear_model import LogisticRegression\n",
    "from sklearn import preprocessing\n",
    "from sklearn import svm\n",
    "from sklearn.ensemble import RandomForestClassifier\n",
    "from sklearn.model_selection import GridSearchCV\n",
    "from sklearn.metrics import accuracy_score\n",
    "import xgboost as xgb\n",
    "from xgboost import XGBClassifier\n",
    "from sklearn.metrics import accuracy_score\n",
    "from sklearn.metrics import plot_confusion_matrix\n",
    "from sklearn import metrics"
   ]
  },
  {
   "cell_type": "markdown",
   "metadata": {},
   "source": [
    "## Results"
   ]
  },
  {
   "cell_type": "markdown",
   "metadata": {},
   "source": [
    "Here we present the results for each model"
   ]
  },
  {
   "cell_type": "markdown",
   "metadata": {},
   "source": [
    "### Logistic Regression"
   ]
  },
  {
   "cell_type": "code",
   "execution_count": 8,
   "metadata": {},
   "outputs": [],
   "source": [
    "y_pred = load_lr.predict(x_test)"
   ]
  },
  {
   "cell_type": "code",
   "execution_count": 11,
   "metadata": {},
   "outputs": [
    {
     "name": "stdout",
     "output_type": "stream",
     "text": [
      "Accuracy train:  0.8681982952232102\n",
      "Accuracy test: 0.8681921610732967\n"
     ]
    },
    {
     "data": {
      "image/png": "[encoded data removed]",
      "text/plain": [
       "<Figure size 432x288 with 2 Axes>"
      ]
     },
     "metadata": {
      "needs_background": "light"
     },
     "output_type": "display_data"
    }
   ],
   "source": [
    "plot_confusion_matrix(load_lr, x_test, y_test)\n",
    "print(\"Accuracy train: \", metrics.accuracy_score(y_train, load_lr.predict(x_train)))\n",
    "print(\"Accuracy test:\",metrics.accuracy_score(y_test, y_pred))"
   ]
  },
  {
   "cell_type": "code",
   "execution_count": 12,
   "metadata": {},
   "outputs": [
    {
     "data": {
      "image/png": "[encoded data removed]",
      "text/plain": [
       "<Figure size 432x288 with 1 Axes>"
      ]
     },
     "metadata": {
      "needs_background": "light"
     },
     "output_type": "display_data"
    }
   ],
   "source": [
    "metrics.plot_roc_curve(load_lr, x_test, y_test)\n",
    "plt.show() "
   ]
  },
  {
   "cell_type": "markdown",
   "metadata": {},
   "source": [
    "### Support Vector Machine"
   ]
  },
  {
   "cell_type": "code",
   "execution_count": 13,
   "metadata": {},
   "outputs": [],
   "source": [
    "y_pred = load_svm.predict(x_test)"
   ]
  },
  {
   "cell_type": "code",
   "execution_count": 14,
   "metadata": {},
   "outputs": [
    {
     "name": "stdout",
     "output_type": "stream",
     "text": [
      "Accuracy train:  0.8302611014066379\n",
      "Accuracy test: 0.8307508939213349\n"
     ]
    },
    {
     "data": {
      "image/png": "[encoded data removed]",
      "text/plain": [
       "<Figure size 432x288 with 2 Axes>"
      ]
     },
     "metadata": {
      "needs_background": "light"
     },
     "output_type": "display_data"
    }
   ],
   "source": [
    "plot_confusion_matrix(load_svm, x_test, y_test)\n",
    "print(\"Accuracy train: \", metrics.accuracy_score(y_train, load_svm.predict(x_train)))\n",
    "print(\"Accuracy test:\",metrics.accuracy_score(y_test, y_pred))"
   ]
  },
  {
   "cell_type": "code",
   "execution_count": 15,
   "metadata": {},
   "outputs": [
    {
     "data": {
      "image/png": "[encoded data removed]",
      "text/plain": [
       "<Figure size 432x288 with 1 Axes>"
      ]
     },
     "metadata": {
      "needs_background": "light"
     },
     "output_type": "display_data"
    }
   ],
   "source": [
    "metrics.plot_roc_curve(load_svm, x_test, y_test)\n",
    "plt.show() "
   ]
  },
  {
   "cell_type": "markdown",
   "metadata": {},
   "source": [
    "### Random Forest"
   ]
  },
  {
   "cell_type": "code",
   "execution_count": 23,
   "metadata": {},
   "outputs": [],
   "source": [
    "y_pred = load_rf.predict(x_test)"
   ]
  },
  {
   "cell_type": "code",
   "execution_count": 24,
   "metadata": {},
   "outputs": [
    {
     "name": "stdout",
     "output_type": "stream",
     "text": [
      "Accuracy train:  0.961819829522321\n",
      "Accuracy test: 0.9612387828879323\n"
     ]
    },
    {
     "data": {
      "image/png": "[encoded data removed]",
      "text/plain": [
       "<Figure size 432x288 with 2 Axes>"
      ]
     },
     "metadata": {
      "needs_background": "light"
     },
     "output_type": "display_data"
    }
   ],
   "source": [
    "plot_confusion_matrix(load_rf, x_test, y_test)\n",
    "print(\"Accuracy train: \", metrics.accuracy_score(y_train, load_rf.predict(x_train)))\n",
    "print(\"Accuracy test:\",metrics.accuracy_score(y_test, y_pred))"
   ]
  },
  {
   "cell_type": "code",
   "execution_count": 25,
   "metadata": {},
   "outputs": [
    {
     "data": {
      "image/png": "[encoded data removed]",
      "text/plain": [
       "<Figure size 432x288 with 1 Axes>"
      ]
     },
     "metadata": {
      "needs_background": "light"
     },
     "output_type": "display_data"
    }
   ],
   "source": [
    "metrics.plot_roc_curve(load_rf, x_test, y_test)\n",
    "plt.show() "
   ]
  },
  {
   "cell_type": "markdown",
   "metadata": {},
   "source": [
    "### XGBoost"
   ]
  },
  {
   "cell_type": "code",
   "execution_count": 26,
   "metadata": {},
   "outputs": [],
   "source": [
    "y_pred = load_xgboostt.predict(x_test)"
   ]
  },
  {
   "cell_type": "code",
   "execution_count": 27,
   "metadata": {},
   "outputs": [
    {
     "name": "stdout",
     "output_type": "stream",
     "text": [
      "Accuracy train:  0.9941324419811135\n",
      "Accuracy test: 0.9842098523429111\n"
     ]
    },
    {
     "data": {
      "image/png": "[encoded data removed]",
      "text/plain": [
       "<Figure size 432x288 with 2 Axes>"
      ]
     },
     "metadata": {
      "needs_background": "light"
     },
     "output_type": "display_data"
    }
   ],
   "source": [
    "plot_confusion_matrix(load_xgboostt, x_test, y_test)\n",
    "print(\"Accuracy train: \", metrics.accuracy_score(y_train, load_xgboostt.predict(x_train)))\n",
    "print(\"Accuracy test:\",metrics.accuracy_score(y_test, y_pred))"
   ]
  },
  {
   "cell_type": "code",
   "execution_count": 28,
   "metadata": {},
   "outputs": [
    {
     "data": {
      "image/png": "[encoded data removed]",
      "text/plain": [
       "<Figure size 432x288 with 1 Axes>"
      ]
     },
     "metadata": {
      "needs_background": "light"
     },
     "output_type": "display_data"
    }
   ],
   "source": [
    "metrics.plot_roc_curve(load_xgboostt, x_test, y_test)\n",
    "plt.show() "
   ]
  },
  {
   "cell_type": "markdown",
   "metadata": {},
   "source": [
    "# Conclusions"
   ]
  },
  {
   "cell_type": "markdown",
   "metadata": {},
   "source": [
    "When considering which model would fit better with this classification problem, we would definetly have to choose between either Random Forest or XGBoost, both over a 96% of accuracy, which is quite high. \n",
    "\n",
    "There where also very good outcomes when predicting with the other two models, placing correctly  over 83% of the loans. However, the Logistic Regression was way better for different reasons:\n",
    "\n",
    "1. There was an obvious accuracy advantage (87% for LR, 83% for SVM)\n",
    "\n",
    "\n",
    "2. The Support Vector Machine model clearly misplaced a high volume of default loans (47%) which, even though it compensates with a very low error classifying the fully paid ones (3%), is very dangerous if we take into account that in the banking industry is way more severe to concede a future default loan than not condecing a loan that will probably be paid.\n",
    "\n",
    "For that reason, this would be our order of preference when choosing a model:\n",
    "\n",
    "1. XGBoost (98% accuracy in test set, AUC = 1.00)\n",
    "2. Random Forest (91% accuracy in test set)\n",
    "3. Logistic Regression\n",
    "4. Support Vector Machine"
   ]
  },
  {
   "cell_type": "markdown",
   "metadata": {},
   "source": [
    "# References"
   ]
  },
  {
   "cell_type": "markdown",
   "metadata": {},
   "source": [
    "Scikit-Learn: Hands-on machine learning with Scikit-Learn and TensorFlow / Aurélien Géron (2017) \n",
    "\n",
    "https://seaborn.pydata.org/tutorial/distributions.html\n",
    "\n",
    "https://medium.com/@szabo.bibor/how-to-create-a-seaborn-correlation-heatmap-in-python-834c0686b88e\n",
    "\n",
    "https://seaborn.pydata.org/index.html\n",
    "\n",
    "https://towardsdatascience.com/exploratory-data-analysis-eda-python-87178e35b14\n",
    "\n",
    "SearchGridCV: https://scikit-learn.org/stable/modules/generated/sklearn.model_selection.GridSearchCV.html\n",
    "\n",
    "Logistic Regression: https://scikit-learn.org/stable/modules/generated/sklearn.linear_model.LogisticRegression.html\n",
    "\n",
    "SVM: https://scikit-learn.org/stable/modules/generated/sklearn.svm.SVC.html\n",
    "\n",
    "Random Forest: https://scikit-learn.org/stable/modules/generated/sklearn.ensemble.RandomForestClassifier.html\n",
    "\n",
    "XGBoost: https://www.kaggle.com/stuarthallows/using-xgboost-with-scikit-learn"
   ]
  }
 ],
 "metadata": {
  "kernelspec": {
   "display_name": "lab3",
   "language": "python",
   "name": "lab3"
  },
  "language_info": {
   "codemirror_mode": {
    "name": "ipython",
    "version": 3
   },
   "file_extension": ".py",
   "mimetype": "text/x-python",
   "name": "python",
   "nbconvert_exporter": "python",
   "pygments_lexer": "ipython3",
   "version": "3.8.3"
  }
 },
 "nbformat": 4,
 "nbformat_minor": 4
}
